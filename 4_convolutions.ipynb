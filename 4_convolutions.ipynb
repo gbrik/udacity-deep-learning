{
 "cells": [
  {
   "cell_type": "markdown",
   "metadata": {
    "colab_type": "text",
    "id": "4embtkV0pNxM"
   },
   "source": [
    "Deep Learning\n",
    "=============\n",
    "\n",
    "Assignment 4\n",
    "------------\n",
    "\n",
    "Previously in `2_fullyconnected.ipynb` and `3_regularization.ipynb`, we trained fully connected networks to classify [notMNIST](http://yaroslavvb.blogspot.com/2011/09/notmnist-dataset.html) characters.\n",
    "\n",
    "The goal of this assignment is make the neural network convolutional."
   ]
  },
  {
   "cell_type": "code",
   "execution_count": 1,
   "metadata": {
    "cellView": "both",
    "colab": {
     "autoexec": {
      "startup": false,
      "wait_interval": 0
     }
    },
    "colab_type": "code",
    "id": "tm2CQN_Cpwj0"
   },
   "outputs": [],
   "source": [
    "# These are all the modules we'll be using later. Make sure you can import them\n",
    "# before proceeding further.\n",
    "from __future__ import print_function\n",
    "import numpy as np\n",
    "import tensorflow as tf\n",
    "from six.moves import cPickle as pickle\n",
    "from six.moves import range\n",
    "import math\n",
    "from IPython.display import clear_output\n",
    "\n",
    "from matplotlib import pyplot as plt\n",
    "%matplotlib inline"
   ]
  },
  {
   "cell_type": "code",
   "execution_count": 2,
   "metadata": {
    "cellView": "both",
    "colab": {
     "autoexec": {
      "startup": false,
      "wait_interval": 0
     },
     "output_extras": [
      {
       "item_id": 1
      }
     ]
    },
    "colab_type": "code",
    "executionInfo": {
     "elapsed": 11948,
     "status": "ok",
     "timestamp": 1446658914837,
     "user": {
      "color": "",
      "displayName": "",
      "isAnonymous": false,
      "isMe": true,
      "permissionId": "",
      "photoUrl": "",
      "sessionId": "0",
      "userId": ""
     },
     "user_tz": 480
    },
    "id": "y3-cj1bpmuxc",
    "outputId": "016b1a51-0290-4b08-efdb-8c95ffc3cd01"
   },
   "outputs": [
    {
     "name": "stdout",
     "output_type": "stream",
     "text": [
      "Training set (200000, 28, 28) (200000,)\n",
      "Validation set (10000, 28, 28) (10000,)\n",
      "Test set (10000, 28, 28) (10000,)\n",
      "Deduplicated validation set (8093, 28, 28) (8093,)\n",
      "Deduplicated test set (7741, 28, 28) (7741,)\n"
     ]
    }
   ],
   "source": [
    "pickle_file = 'notMNIST.pickle'\n",
    "\n",
    "with open(pickle_file, 'rb') as f:\n",
    "  save = pickle.load(f)\n",
    "  train_dataset = save['train_dataset']\n",
    "  train_labels = save['train_labels']\n",
    "  valid_dataset = save['valid_dataset']\n",
    "  valid_labels = save['valid_labels']\n",
    "  test_dataset = save['test_dataset']\n",
    "  test_labels = save['test_labels']\n",
    "  dedup_valid_dataset = save['dedup_valid_dataset']\n",
    "  dedup_valid_labels = save['dedup_valid_labels']\n",
    "  dedup_test_dataset = save['dedup_test_dataset']\n",
    "  dedup_test_labels = save['dedup_test_labels']\n",
    "  del save  # hint to help gc free up memory\n",
    "  print('Training set', train_dataset.shape, train_labels.shape)\n",
    "  print('Validation set', valid_dataset.shape, valid_labels.shape)\n",
    "  print('Test set', test_dataset.shape, test_labels.shape)\n",
    "  print('Deduplicated validation set', dedup_valid_dataset.shape, dedup_valid_labels.shape)\n",
    "  print('Deduplicated test set', dedup_test_dataset.shape, dedup_test_labels.shape)"
   ]
  },
  {
   "cell_type": "markdown",
   "metadata": {
    "colab_type": "text",
    "id": "L7aHrm6nGDMB"
   },
   "source": [
    "Reformat into a TensorFlow-friendly shape:\n",
    "- convolutions need the image data formatted as a cube (width by height by #channels)\n",
    "- labels as float 1-hot encodings."
   ]
  },
  {
   "cell_type": "code",
   "execution_count": 3,
   "metadata": {
    "cellView": "both",
    "colab": {
     "autoexec": {
      "startup": false,
      "wait_interval": 0
     },
     "output_extras": [
      {
       "item_id": 1
      }
     ]
    },
    "colab_type": "code",
    "executionInfo": {
     "elapsed": 11952,
     "status": "ok",
     "timestamp": 1446658914857,
     "user": {
      "color": "",
      "displayName": "",
      "isAnonymous": false,
      "isMe": true,
      "permissionId": "",
      "photoUrl": "",
      "sessionId": "0",
      "userId": ""
     },
     "user_tz": 480
    },
    "id": "IRSyYiIIGIzS",
    "outputId": "650a208c-8359-4852-f4f5-8bf10e80ef6c"
   },
   "outputs": [
    {
     "name": "stdout",
     "output_type": "stream",
     "text": [
      "Training set (200000, 28, 28, 1) (200000, 10)\n",
      "Validation set (10000, 28, 28, 1) (10000, 10)\n",
      "Test set (10000, 28, 28, 1) (10000, 10)\n",
      "Deduplicated validation set (8093, 28, 28, 1) (8093, 10)\n",
      "Deduplicated test set (7741, 28, 28, 1) (7741, 10)\n"
     ]
    }
   ],
   "source": [
    "image_size = 28\n",
    "num_labels = 10\n",
    "num_channels = 1 # grayscale\n",
    "\n",
    "import numpy as np\n",
    "\n",
    "def reformat(dataset, labels):\n",
    "  dataset = dataset.reshape(\n",
    "    (-1, image_size, image_size, num_channels)).astype(np.float32)\n",
    "  labels = (np.arange(num_labels) == labels[:,None]).astype(np.float32)\n",
    "  return dataset, labels\n",
    "\n",
    "train_dataset, train_labels = reformat(train_dataset, train_labels)\n",
    "orig_valid_dataset, orig_valid_labels = reformat(valid_dataset, valid_labels)\n",
    "orig_test_dataset, orig_test_labels = reformat(test_dataset, test_labels)\n",
    "dedup_valid_dataset, dedup_valid_labels = reformat(dedup_valid_dataset, dedup_valid_labels)\n",
    "dedup_test_dataset, dedup_test_labels = reformat(dedup_test_dataset, dedup_test_labels)\n",
    "\n",
    "print('Training set', train_dataset.shape, train_labels.shape)\n",
    "print('Validation set', orig_valid_dataset.shape, orig_valid_labels.shape)\n",
    "print('Test set', orig_test_dataset.shape, orig_test_labels.shape)\n",
    "print('Deduplicated validation set', dedup_valid_dataset.shape, dedup_valid_labels.shape)\n",
    "print('Deduplicated test set', dedup_test_dataset.shape, dedup_test_labels.shape)"
   ]
  },
  {
   "cell_type": "code",
   "execution_count": 4,
   "metadata": {},
   "outputs": [],
   "source": [
    "valid_dataset = dedup_valid_dataset\n",
    "valid_labels = dedup_valid_labels\n",
    "test_dataset = dedup_test_dataset\n",
    "test_labels = dedup_test_labels"
   ]
  },
  {
   "cell_type": "code",
   "execution_count": 5,
   "metadata": {},
   "outputs": [],
   "source": [
    "valid_dataset = orig_valid_dataset\n",
    "valid_labels = orig_valid_labels\n",
    "test_dataset = orig_test_dataset\n",
    "test_labels = orig_test_labels"
   ]
  },
  {
   "cell_type": "code",
   "execution_count": 6,
   "metadata": {
    "cellView": "both",
    "colab": {
     "autoexec": {
      "startup": false,
      "wait_interval": 0
     }
    },
    "colab_type": "code",
    "id": "AgQDIREv02p1"
   },
   "outputs": [],
   "source": [
    "def accuracy(predictions, labels):\n",
    "  return (100.0 * np.sum(np.equal(np.argmax(predictions, 1), np.argmax(labels, 1)))\n",
    "          / predictions.shape[0])"
   ]
  },
  {
   "cell_type": "markdown",
   "metadata": {
    "colab_type": "text",
    "id": "5rhgjmROXu2O"
   },
   "source": [
    "Let's build a small network with two convolutional layers, followed by one fully connected layer. Convolutional networks are more expensive computationally, so we'll limit its depth and number of fully connected nodes."
   ]
  },
  {
   "cell_type": "code",
   "execution_count": 14,
   "metadata": {
    "cellView": "both",
    "colab": {
     "autoexec": {
      "startup": false,
      "wait_interval": 0
     }
    },
    "colab_type": "code",
    "id": "IZYv70SvvOan"
   },
   "outputs": [],
   "source": [
    "batch_size = 16\n",
    "patch_size = 5\n",
    "depth = 16\n",
    "num_hidden = 64\n",
    "\n",
    "graph = tf.Graph()\n",
    "\n",
    "with graph.as_default(), tf.device('/cpu:0'):\n",
    "\n",
    "  # Input data.\n",
    "  tf_train_dataset = tf.placeholder(\n",
    "    tf.float32, shape=(batch_size, image_size, image_size, num_channels))\n",
    "  tf_train_labels = tf.placeholder(tf.float32, shape=(batch_size, num_labels))\n",
    "  tf_valid_dataset = tf.constant(valid_dataset)\n",
    "  tf_test_dataset = tf.constant(test_dataset)\n",
    "  \n",
    "  # Variables.\n",
    "  layer1_weights = tf.Variable(tf.truncated_normal(\n",
    "      [patch_size, patch_size, num_channels, depth], stddev=0.1))\n",
    "  layer1_biases = tf.Variable(tf.zeros([depth]))\n",
    "  layer2_weights = tf.Variable(tf.truncated_normal(\n",
    "      [patch_size, patch_size, depth, depth], stddev=0.1))\n",
    "  layer2_biases = tf.Variable(tf.constant(1.0, shape=[depth]))\n",
    "  layer3_weights = tf.Variable(tf.truncated_normal(\n",
    "      [image_size // 4 * image_size // 4 * depth, num_hidden], stddev=0.1))\n",
    "  layer3_biases = tf.Variable(tf.constant(1.0, shape=[num_hidden]))\n",
    "  layer4_weights = tf.Variable(tf.truncated_normal(\n",
    "      [num_hidden, num_labels], stddev=0.1))\n",
    "  layer4_biases = tf.Variable(tf.constant(1.0, shape=[num_labels]))\n",
    "  \n",
    "  # Model.\n",
    "  def model(data):\n",
    "    conv = tf.nn.conv2d(data, layer1_weights, [1, 2, 2, 1], padding='SAME')\n",
    "    hidden = tf.nn.relu(conv + layer1_biases)\n",
    "    conv = tf.nn.conv2d(hidden, layer2_weights, [1, 2, 2, 1], padding='SAME')\n",
    "    hidden = tf.nn.relu(conv + layer2_biases)\n",
    "    shape = hidden.get_shape().as_list()\n",
    "    reshape = tf.reshape(hidden, [shape[0], shape[1] * shape[2] * shape[3]])\n",
    "    hidden = tf.nn.relu(tf.matmul(reshape, layer3_weights) + layer3_biases)\n",
    "    return tf.matmul(hidden, layer4_weights) + layer4_biases\n",
    "  \n",
    "  # Training computation.\n",
    "  logits = model(tf_train_dataset)\n",
    "  loss = tf.reduce_mean(\n",
    "    tf.nn.softmax_cross_entropy_with_logits(labels=tf_train_labels, logits=logits))\n",
    "    \n",
    "  # Optimizer.\n",
    "  optimizer = tf.train.GradientDescentOptimizer(0.05).minimize(loss)\n",
    "  \n",
    "  # Predictions for the training, validation, and test data.\n",
    "  train_prediction = tf.nn.softmax(logits)\n",
    "  valid_prediction = tf.nn.softmax(model(tf_valid_dataset))\n",
    "  test_prediction = tf.nn.softmax(model(tf_test_dataset))"
   ]
  },
  {
   "cell_type": "code",
   "execution_count": 15,
   "metadata": {
    "cellView": "both",
    "colab": {
     "autoexec": {
      "startup": false,
      "wait_interval": 0
     },
     "output_extras": [
      {
       "item_id": 37
      }
     ]
    },
    "colab_type": "code",
    "executionInfo": {
     "elapsed": 63292,
     "status": "ok",
     "timestamp": 1446658966251,
     "user": {
      "color": "",
      "displayName": "",
      "isAnonymous": false,
      "isMe": true,
      "permissionId": "",
      "photoUrl": "",
      "sessionId": "0",
      "userId": ""
     },
     "user_tz": 480
    },
    "id": "noKFb2UovVFR",
    "outputId": "28941338-2ef9-4088-8bd1-44295661e628"
   },
   "outputs": [
    {
     "name": "stdout",
     "output_type": "stream",
     "text": [
      "Initialized\n",
      "Minibatch loss at step 0: 5.451924\n",
      "Minibatch accuracy: 6.2%\n",
      "Validation accuracy: 11.0%\n",
      "Minibatch loss at step 50: 1.837906\n",
      "Minibatch accuracy: 37.5%\n",
      "Validation accuracy: 45.0%\n",
      "Minibatch loss at step 100: 1.260948\n",
      "Minibatch accuracy: 62.5%\n",
      "Validation accuracy: 63.5%\n",
      "Minibatch loss at step 150: 0.389143\n",
      "Minibatch accuracy: 81.2%\n",
      "Validation accuracy: 74.1%\n",
      "Minibatch loss at step 200: 0.951955\n",
      "Minibatch accuracy: 75.0%\n",
      "Validation accuracy: 76.3%\n",
      "Minibatch loss at step 250: 1.175404\n",
      "Minibatch accuracy: 62.5%\n",
      "Validation accuracy: 76.0%\n",
      "Minibatch loss at step 300: 0.264862\n",
      "Minibatch accuracy: 93.8%\n",
      "Validation accuracy: 78.6%\n",
      "Minibatch loss at step 350: 0.614283\n",
      "Minibatch accuracy: 93.8%\n",
      "Validation accuracy: 75.5%\n",
      "Minibatch loss at step 400: 0.323176\n",
      "Minibatch accuracy: 93.8%\n",
      "Validation accuracy: 79.5%\n",
      "Minibatch loss at step 450: 0.904079\n",
      "Minibatch accuracy: 75.0%\n",
      "Validation accuracy: 78.5%\n",
      "Minibatch loss at step 500: 0.843628\n",
      "Minibatch accuracy: 87.5%\n",
      "Validation accuracy: 80.1%\n",
      "Minibatch loss at step 550: 0.749234\n",
      "Minibatch accuracy: 81.2%\n",
      "Validation accuracy: 79.9%\n",
      "Minibatch loss at step 600: 0.393951\n",
      "Minibatch accuracy: 87.5%\n",
      "Validation accuracy: 81.0%\n",
      "Minibatch loss at step 650: 0.963515\n",
      "Minibatch accuracy: 81.2%\n",
      "Validation accuracy: 81.9%\n",
      "Minibatch loss at step 700: 0.839589\n",
      "Minibatch accuracy: 75.0%\n",
      "Validation accuracy: 81.8%\n",
      "Minibatch loss at step 750: 0.058098\n",
      "Minibatch accuracy: 100.0%\n",
      "Validation accuracy: 82.6%\n",
      "Minibatch loss at step 800: 0.509145\n",
      "Minibatch accuracy: 81.2%\n",
      "Validation accuracy: 82.0%\n",
      "Minibatch loss at step 850: 0.738427\n",
      "Minibatch accuracy: 87.5%\n",
      "Validation accuracy: 81.7%\n",
      "Minibatch loss at step 900: 0.780695\n",
      "Minibatch accuracy: 81.2%\n",
      "Validation accuracy: 82.5%\n",
      "Minibatch loss at step 950: 0.430081\n",
      "Minibatch accuracy: 87.5%\n",
      "Validation accuracy: 82.9%\n",
      "Minibatch loss at step 1000: 0.393164\n",
      "Minibatch accuracy: 87.5%\n",
      "Validation accuracy: 82.4%\n",
      "Minibatch loss at step 1050: 0.584781\n",
      "Minibatch accuracy: 81.2%\n",
      "Validation accuracy: 81.7%\n",
      "Minibatch loss at step 1100: 0.635512\n",
      "Minibatch accuracy: 75.0%\n",
      "Validation accuracy: 83.4%\n",
      "Minibatch loss at step 1150: 0.586390\n",
      "Minibatch accuracy: 81.2%\n",
      "Validation accuracy: 83.7%\n",
      "Minibatch loss at step 1200: 1.127903\n",
      "Minibatch accuracy: 56.2%\n",
      "Validation accuracy: 83.6%\n",
      "Minibatch loss at step 1250: 0.566694\n",
      "Minibatch accuracy: 81.2%\n",
      "Validation accuracy: 83.7%\n",
      "Minibatch loss at step 1300: 0.204646\n",
      "Minibatch accuracy: 93.8%\n",
      "Validation accuracy: 82.8%\n",
      "Minibatch loss at step 1350: 0.855479\n",
      "Minibatch accuracy: 68.8%\n",
      "Validation accuracy: 83.8%\n",
      "Minibatch loss at step 1400: 0.387852\n",
      "Minibatch accuracy: 87.5%\n",
      "Validation accuracy: 84.1%\n",
      "Minibatch loss at step 1450: 0.375003\n",
      "Minibatch accuracy: 87.5%\n",
      "Validation accuracy: 84.4%\n",
      "Minibatch loss at step 1500: 0.719775\n",
      "Minibatch accuracy: 81.2%\n",
      "Validation accuracy: 83.7%\n",
      "Minibatch loss at step 1550: 0.548825\n",
      "Minibatch accuracy: 93.8%\n",
      "Validation accuracy: 83.6%\n",
      "Minibatch loss at step 1600: 0.973149\n",
      "Minibatch accuracy: 75.0%\n",
      "Validation accuracy: 84.1%\n",
      "Minibatch loss at step 1650: 0.646299\n",
      "Minibatch accuracy: 75.0%\n",
      "Validation accuracy: 83.7%\n",
      "Minibatch loss at step 1700: 0.434923\n",
      "Minibatch accuracy: 87.5%\n",
      "Validation accuracy: 84.2%\n",
      "Minibatch loss at step 1750: 0.430219\n",
      "Minibatch accuracy: 87.5%\n",
      "Validation accuracy: 84.4%\n",
      "Minibatch loss at step 1800: 0.257086\n",
      "Minibatch accuracy: 93.8%\n",
      "Validation accuracy: 84.8%\n",
      "Minibatch loss at step 1850: 0.716450\n",
      "Minibatch accuracy: 75.0%\n",
      "Validation accuracy: 84.8%\n",
      "Minibatch loss at step 1900: 0.317823\n",
      "Minibatch accuracy: 93.8%\n",
      "Validation accuracy: 84.6%\n",
      "Minibatch loss at step 1950: 0.564497\n",
      "Minibatch accuracy: 68.8%\n",
      "Validation accuracy: 85.3%\n",
      "Minibatch loss at step 2000: 0.055026\n",
      "Minibatch accuracy: 100.0%\n",
      "Validation accuracy: 84.9%\n",
      "Minibatch loss at step 2050: 0.733915\n",
      "Minibatch accuracy: 68.8%\n",
      "Validation accuracy: 85.0%\n",
      "Minibatch loss at step 2100: 0.277443\n",
      "Minibatch accuracy: 93.8%\n",
      "Validation accuracy: 84.8%\n",
      "Minibatch loss at step 2150: 0.408625\n",
      "Minibatch accuracy: 87.5%\n",
      "Validation accuracy: 85.0%\n",
      "Minibatch loss at step 2200: 0.279579\n",
      "Minibatch accuracy: 87.5%\n",
      "Validation accuracy: 85.2%\n",
      "Minibatch loss at step 2250: 0.504206\n",
      "Minibatch accuracy: 81.2%\n",
      "Validation accuracy: 85.5%\n",
      "Minibatch loss at step 2300: 0.616633\n",
      "Minibatch accuracy: 81.2%\n",
      "Validation accuracy: 85.0%\n",
      "Minibatch loss at step 2350: 0.217243\n",
      "Minibatch accuracy: 93.8%\n",
      "Validation accuracy: 85.4%\n",
      "Minibatch loss at step 2400: 0.588914\n",
      "Minibatch accuracy: 75.0%\n",
      "Validation accuracy: 85.3%\n",
      "Minibatch loss at step 2450: 0.566438\n",
      "Minibatch accuracy: 87.5%\n",
      "Validation accuracy: 85.5%\n",
      "Minibatch loss at step 2500: 0.731982\n",
      "Minibatch accuracy: 75.0%\n",
      "Validation accuracy: 85.3%\n",
      "Minibatch loss at step 2550: 0.557487\n",
      "Minibatch accuracy: 81.2%\n",
      "Validation accuracy: 85.3%\n",
      "Minibatch loss at step 2600: 0.283131\n",
      "Minibatch accuracy: 87.5%\n",
      "Validation accuracy: 85.8%\n",
      "Minibatch loss at step 2650: 0.442248\n",
      "Minibatch accuracy: 87.5%\n",
      "Validation accuracy: 85.7%\n",
      "Minibatch loss at step 2700: 0.362546\n",
      "Minibatch accuracy: 93.8%\n",
      "Validation accuracy: 85.8%\n",
      "Minibatch loss at step 2750: 1.133024\n",
      "Minibatch accuracy: 75.0%\n",
      "Validation accuracy: 85.7%\n",
      "Minibatch loss at step 2800: 0.490875\n",
      "Minibatch accuracy: 81.2%\n",
      "Validation accuracy: 85.8%\n",
      "Minibatch loss at step 2850: 0.079450\n",
      "Minibatch accuracy: 100.0%\n",
      "Validation accuracy: 86.0%\n",
      "Minibatch loss at step 2900: 0.370350\n",
      "Minibatch accuracy: 87.5%\n",
      "Validation accuracy: 85.6%\n",
      "Minibatch loss at step 2950: 0.406407\n",
      "Minibatch accuracy: 87.5%\n",
      "Validation accuracy: 86.4%\n",
      "Minibatch loss at step 3000: 0.856650\n",
      "Minibatch accuracy: 81.2%\n",
      "Validation accuracy: 86.1%\n",
      "Test accuracy: 92.3%\n",
      "Wall time: 45.5 s\n"
     ]
    }
   ],
   "source": [
    "%%time\n",
    "\n",
    "num_steps = 3001\n",
    "\n",
    "with tf.Session(graph=graph) as session:\n",
    "  tf.global_variables_initializer().run()\n",
    "  print('Initialized')\n",
    "  for step in range(num_steps):\n",
    "    offset = (step * batch_size) % (train_labels.shape[0] - batch_size)\n",
    "    batch_data = train_dataset[offset:(offset + batch_size), :, :, :]\n",
    "    batch_labels = train_labels[offset:(offset + batch_size), :]\n",
    "    feed_dict = {tf_train_dataset : batch_data, tf_train_labels : batch_labels}\n",
    "    _, l, predictions = session.run(\n",
    "      [optimizer, loss, train_prediction], feed_dict=feed_dict)\n",
    "    if (step % 50 == 0):\n",
    "      print('Minibatch loss at step %d: %f' % (step, l))\n",
    "      print('Minibatch accuracy: %.1f%%' % accuracy(predictions, batch_labels))\n",
    "      print('Validation accuracy: %.1f%%' % accuracy(\n",
    "        valid_prediction.eval(), valid_labels))\n",
    "  print('Test accuracy: %.1f%%' % accuracy(test_prediction.eval(), test_labels))"
   ]
  },
  {
   "cell_type": "markdown",
   "metadata": {
    "colab_type": "text",
    "id": "KedKkn4EutIK"
   },
   "source": [
    "---\n",
    "Problem 1\n",
    "---------\n",
    "\n",
    "The convolutional model above uses convolutions with stride 2 to reduce the dimensionality. Replace the strides by a max pooling operation (`nn.max_pool()`) of stride 2 and kernel size 2.\n",
    "\n",
    "---"
   ]
  },
  {
   "cell_type": "code",
   "execution_count": 8,
   "metadata": {
    "cellView": "both",
    "colab": {
     "autoexec": {
      "startup": false,
      "wait_interval": 0
     }
    },
    "colab_type": "code",
    "id": "IZYv70SvvOan"
   },
   "outputs": [],
   "source": [
    "batch_size = 16\n",
    "patch_size = 5\n",
    "depth = 16\n",
    "num_hidden = 64\n",
    "\n",
    "graph = tf.Graph()\n",
    "\n",
    "with graph.as_default():\n",
    "\n",
    "  # Input data.\n",
    "  tf_train_dataset = tf.placeholder(\n",
    "    tf.float32, shape=(batch_size, image_size, image_size, num_channels))\n",
    "  tf_train_labels = tf.placeholder(tf.float32, shape=(batch_size, num_labels))\n",
    "  tf_valid_dataset = tf.constant(valid_dataset)\n",
    "  tf_test_dataset = tf.constant(test_dataset)\n",
    "  \n",
    "  # Variables.\n",
    "  layer1_weights = tf.Variable(tf.truncated_normal(\n",
    "      [patch_size, patch_size, num_channels, depth], stddev=0.1))\n",
    "  layer1_biases = tf.Variable(tf.zeros([depth]))\n",
    "  layer2_weights = tf.Variable(tf.truncated_normal(\n",
    "      [patch_size, patch_size, depth, depth], stddev=0.1))\n",
    "  layer2_biases = tf.Variable(tf.constant(1.0, shape=[depth]))\n",
    "  layer3_weights = tf.Variable(tf.truncated_normal(\n",
    "      [image_size // 4 * image_size // 4 * depth, num_hidden], stddev=0.1))\n",
    "  layer3_biases = tf.Variable(tf.constant(1.0, shape=[num_hidden]))\n",
    "  layer4_weights = tf.Variable(tf.truncated_normal(\n",
    "      [num_hidden, num_labels], stddev=0.1))\n",
    "  layer4_biases = tf.Variable(tf.constant(1.0, shape=[num_labels]))\n",
    "  \n",
    "  # Model.\n",
    "  def model(data):\n",
    "    conv = tf.nn.conv2d(data, layer1_weights, [1, 1, 1, 1], padding='SAME')\n",
    "    hidden = tf.nn.relu(conv + layer1_biases)\n",
    "    pool = tf.nn.max_pool(conv, [1, 2, 2, 1], [1, 2, 2, 1], padding='SAME')\n",
    "    conv = tf.nn.conv2d(pool, layer2_weights, [1, 1, 1, 1], padding='SAME')\n",
    "    hidden = tf.nn.relu(conv + layer2_biases)\n",
    "    pool = tf.nn.max_pool(conv, [1, 2, 2, 1], [1, 2, 2, 1], padding='SAME')\n",
    "    shape = pool.get_shape().as_list()\n",
    "    reshape = tf.reshape(pool, [shape[0], shape[1] * shape[2] * shape[3]])\n",
    "    hidden = tf.nn.relu(tf.matmul(reshape, layer3_weights) + layer3_biases)\n",
    "    return tf.matmul(hidden, layer4_weights) + layer4_biases\n",
    "  \n",
    "  # Training computation.\n",
    "  logits = model(tf_train_dataset)\n",
    "  loss = tf.reduce_mean(\n",
    "    tf.nn.softmax_cross_entropy_with_logits(labels=tf_train_labels, logits=logits))\n",
    "    \n",
    "  # Optimizer.\n",
    "  optimizer = tf.train.GradientDescentOptimizer(0.05).minimize(loss)\n",
    "  \n",
    "  # Predictions for the training, validation, and test data.\n",
    "  train_prediction = tf.nn.softmax(logits)\n",
    "  valid_prediction = tf.nn.softmax(model(tf_valid_dataset))\n",
    "  test_prediction = tf.nn.softmax(model(tf_test_dataset))"
   ]
  },
  {
   "cell_type": "code",
   "execution_count": 9,
   "metadata": {
    "cellView": "both",
    "colab": {
     "autoexec": {
      "startup": false,
      "wait_interval": 0
     },
     "output_extras": [
      {
       "item_id": 37
      }
     ]
    },
    "colab_type": "code",
    "executionInfo": {
     "elapsed": 63292,
     "status": "ok",
     "timestamp": 1446658966251,
     "user": {
      "color": "",
      "displayName": "",
      "isAnonymous": false,
      "isMe": true,
      "permissionId": "",
      "photoUrl": "",
      "sessionId": "0",
      "userId": ""
     },
     "user_tz": 480
    },
    "id": "noKFb2UovVFR",
    "outputId": "28941338-2ef9-4088-8bd1-44295661e628"
   },
   "outputs": [
    {
     "name": "stdout",
     "output_type": "stream",
     "text": [
      "Minibatch loss at step 125000: 0.465101\n",
      "Minibatch accuracy: 75.0%\n",
      "Validation accuracy: 89.0%\n",
      "[1 9 3 8 9 3 9 7 0 7 3 4 9 2 4 2 4 2 7 1 1 4 8 0 1 7 8 2 9 8 9 3 4 6 3]\n"
     ]
    },
    {
     "data": {
      "image/png": "[encoded data removed]",
      "text/plain": [
       "<matplotlib.figure.Figure at 0x2820d194e80>"
      ]
     },
     "metadata": {},
     "output_type": "display_data"
    },
    {
     "data": {
      "image/png": "[encoded data removed]",
      "text/plain": [
       "<matplotlib.figure.Figure at 0x2820d2806a0>"
      ]
     },
     "metadata": {},
     "output_type": "display_data"
    },
    {
     "data": {
      "image/png": "[encoded data removed]",
      "text/plain": [
       "<matplotlib.figure.Figure at 0x2820e375cc0>"
      ]
     },
     "metadata": {},
     "output_type": "display_data"
    },
    {
     "name": "stdout",
     "output_type": "stream",
     "text": [
      "Test accuracy: 95.0%\n"
     ]
    },
    {
     "data": {
      "image/png": "[encoded data removed]",
      "text/plain": [
       "<matplotlib.figure.Figure at 0x2820d1d5f60>"
      ]
     },
     "metadata": {},
     "output_type": "display_data"
    },
    {
     "data": {
      "image/png": "[encoded data removed]",
      "text/plain": [
       "<matplotlib.figure.Figure at 0x2820e37e278>"
      ]
     },
     "metadata": {},
     "output_type": "display_data"
    }
   ],
   "source": [
    "num_steps = 125001\n",
    "disp_inc = 500\n",
    "\n",
    "with tf.Session(graph=graph) as session:\n",
    "  tf.global_variables_initializer().run()\n",
    "  print('Initialized')\n",
    "  track_progress = []\n",
    "  track_loss = []\n",
    "  for step in range(num_steps):\n",
    "    offset = (step * batch_size) % (train_labels.shape[0] - batch_size)\n",
    "    batch_data = train_dataset[offset:(offset + batch_size), :, :, :]\n",
    "    batch_labels = train_labels[offset:(offset + batch_size), :]\n",
    "    feed_dict = {tf_train_dataset : batch_data, tf_train_labels : batch_labels}\n",
    "    _, l, predictions = session.run(\n",
    "      [optimizer, loss, train_prediction], feed_dict=feed_dict)\n",
    "    if (step % disp_inc == 0):\n",
    "      val_pred = valid_prediction.eval()\n",
    "      valid_acc = accuracy(val_pred, valid_labels)\n",
    "      track_progress.append(valid_acc)\n",
    "      track_loss.append(l)\n",
    "        \n",
    "      clear_output(wait=True)\n",
    "    \n",
    "      print('Minibatch loss at step %d: %f' % (step, l))\n",
    "      print('Minibatch accuracy: %.1f%%' % accuracy(predictions, batch_labels))\n",
    "      print('Validation accuracy: %.1f%%' % valid_acc)\n",
    "      print(np.argmax(val_pred[0:35], 1))\n",
    "      \n",
    "      plt.plot([disp_inc * i for i in range(len(track_progress))], track_progress)\n",
    "      plt.show()\n",
    "      drop_some = track_progress[(len(track_progress) + 5) // 10:]\n",
    "      plt.plot([disp_inc * i for i in range(len(track_progress) - len(drop_some), len(track_progress))], drop_some)\n",
    "      plt.show()\n",
    "      plt.plot([disp_inc * i for i in range(len(track_loss))], track_loss)\n",
    "      plt.show()\n",
    "\n",
    "  print('Test accuracy: %.1f%%' % accuracy(test_prediction.eval(), test_labels))\n",
    "  last_bit = track_progress[-30:]\n",
    "  plt.plot([disp_inc * i for i in range(len(track_progress) - len(last_bit), len(track_progress))], last_bit)\n",
    "  plt.show()\n",
    "  last_bit = track_progress[(len(track_progress) + 5) // 10:]\n",
    "  plt.plot([disp_inc * i for i in range(len(track_progress) - len(last_bit), len(track_progress))], last_bit)\n",
    "  plt.show()"
   ]
  },
  {
   "cell_type": "markdown",
   "metadata": {
    "colab_type": "text",
    "id": "klf21gpbAgb-"
   },
   "source": [
    "---\n",
    "Problem 2\n",
    "---------\n",
    "\n",
    "Try to get the best performance you can using a convolutional net. Look for example at the classic [LeNet5](http://yann.lecun.com/exdb/lenet/) architecture, adding Dropout, and/or adding learning rate decay.\n",
    "\n",
    "---"
   ]
  },
  {
   "cell_type": "code",
   "execution_count": 225,
   "metadata": {
    "cellView": "both",
    "colab": {
     "autoexec": {
      "startup": false,
      "wait_interval": 0
     }
    },
    "colab_type": "code",
    "id": "IZYv70SvvOan"
   },
   "outputs": [
    {
     "name": "stdout",
     "output_type": "stream",
     "text": [
      "0.4714045207910317\n",
      "0.5\n",
      "0.16666666666666666\n",
      "0.16666666666666666\n",
      "0.16666666666666666\n",
      "0.3535533905932738\n",
      "0.11785113019775792\n",
      "0.11785113019775792\n",
      "0.11785113019775792\n",
      "0.25\n",
      "0.08333333333333333\n",
      "0.08333333333333333\n",
      "0.03571428571428571\n",
      "0.09128709291752768\n",
      "0.18257418583505536\n"
     ]
    }
   ],
   "source": [
    "batch_size = 16\n",
    "patch_size = 5\n",
    "depths = [8, 16, 32]\n",
    "num_hidden = [240, 60]\n",
    "loss_coeff = 0.03\n",
    "keep_prob = 0.6\n",
    "\n",
    "graph = tf.Graph()\n",
    "\n",
    "with graph.as_default():\n",
    "\n",
    "  # Input data.\n",
    "  tf_train_dataset = tf.placeholder(\n",
    "    tf.float32, shape=(batch_size, image_size, image_size, num_channels))\n",
    "  tf_train_labels = tf.placeholder(tf.float32, shape=(batch_size, num_labels))\n",
    "  tf_valid_dataset = tf.constant(valid_dataset)\n",
    "  tf_test_dataset = tf.constant(test_dataset)\n",
    "\n",
    "  def activate(activations, training):\n",
    "    res = tf.nn.relu(activations)\n",
    "    if training:\n",
    "      res = tf.nn.dropout(res, keep_prob)\n",
    "    return res\n",
    "\n",
    "  def xavier(shape):\n",
    "    stddev =  math.sqrt(2.0 / np.prod(shape[:len(shape) - 1]))\n",
    "    print(stddev)\n",
    "    return stddev\n",
    "\n",
    "  def init_weights(shape):\n",
    "    return tf.Variable(tf.truncated_normal(shape, stddev=xavier(shape)))\n",
    "\n",
    "  def conv_var(patch_size, in_depth, out_depth):\n",
    "    return init_weights([patch_size, patch_size, in_depth, out_depth])\n",
    "\n",
    "  def make_inception(in_depth, out_depth):\n",
    "    one_weights = [ conv_var(1, in_depth, out_depth) for _ in range(4) ]\n",
    "    one_biases = [ tf.Variable(tf.zeros([out_depth])) for _ in range(4) ]\n",
    "    three_weights = conv_var(3, out_depth, out_depth)\n",
    "    three_biases = tf.Variable(tf.zeros([out_depth]))\n",
    "    five_weights = conv_var(5, out_depth, out_depth)\n",
    "    five_biases = tf.Variable(tf.zeros([out_depth]))\n",
    "    \n",
    "    def app(data):\n",
    "      res_1 = activate(tf.nn.conv2d(data, one_weights[0], [1, 1, 1, 1], padding='SAME') + one_biases[0])\n",
    "      res_2 = activate(tf.nn.conv2d(data, one_weights[1], [1, 1, 1, 1], padding='SAME') + one_biases[1])\n",
    "      res_2 = activate(tf.nn.conv2d(res_2, three_weights, [1, 1, 1, 1], padding='SAME') + three_biases)\n",
    "      res_3 = activate(tf.nn.conv2d(data, one_weights[2], [1, 1, 1, 1], padding='SAME') + one_biases[2])\n",
    "      res_3 = activate(tf.nn.conv2d(res_3, five_weights, [1, 1, 1, 1], padding='SAME') + five_biases)\n",
    "      res_4 = tf.nn.avg_pool(data, [1, 3, 3, 1], [1, 1, 1, 1], padding='SAME')\n",
    "      res_4 = activate(tf.nn.conv2d(res_4, one_weights[3], [1, 1, 1, 1,], padding='SAME') + one_biases[3])\n",
    "    \n",
    "      return tf.concat([res_1, res_2, res_3, res_4], 3)\n",
    "    \n",
    "    return app\n",
    "\n",
    "  def make_deep_conv(in_depth, out_depth):  \n",
    "    layer_ws = [ conv_var(patch_size, in_depth, out_depth) ]\n",
    "    layer_ws = layer_ws + [ conv_var(p, out_depth, out_depth) for p in [1, 3, 3] ]\n",
    "    layer_bs = [ tf.Variable(tf.zeros([out_depth])) for _ in range(4) ]\n",
    "    \n",
    "    def app(data, training):\n",
    "      res = data\n",
    "      for w, b in zip(layer_ws, layer_bs):\n",
    "        res = activate(tf.nn.conv2d(res, w, [1, 1, 1, 1], padding='SAME') + b, training)\n",
    "      return res\n",
    "    \n",
    "    return app, layer_ws\n",
    "  \n",
    "  # Variables.\n",
    "  padded_depths = [num_channels] + depths\n",
    "  weights = []\n",
    "  deep_convs = []\n",
    "  for app, ws in [ make_deep_conv(padded_depths[i], padded_depths[i + 1]) for i in range(len(depths)) ]:\n",
    "    weights = weights + ws\n",
    "    deep_convs.append(app) \n",
    "  layer3_weights = init_weights([image_size // 4 * image_size // 4 * depths[-1], num_hidden[0]])\n",
    "  layer3_biases = tf.Variable(tf.constant(1.0, shape=[num_hidden[0]]))  \n",
    "  layer4_weights = init_weights([num_hidden[0], num_hidden[1]])\n",
    "  layer4_biases = tf.Variable(tf.constant(1.0, shape=[num_hidden[1]]))\n",
    "  layer5_weights = init_weights([num_hidden[1], num_labels])\n",
    "  layer5_biases = tf.Variable(tf.constant(1.0, shape=[num_labels]))\n",
    "    \n",
    "  weights = weights + [layer3_weights, layer4_weights, layer4_weights]\n",
    "  \n",
    "  # Model.\n",
    "  def model(data, training=False):\n",
    "    pool = data\n",
    "    for deep_conv in deep_convs:\n",
    "      res = deep_conv(pool, training)\n",
    "      if res.get_shape().as_list()[1] % 2 == 0:\n",
    "        pool = tf.nn.max_pool(res, [1, 2, 2, 1], [1, 2, 2, 1], padding='SAME')\n",
    "      else:\n",
    "        pool = res\n",
    "    shape = pool.get_shape().as_list()\n",
    "    reshape = tf.reshape(pool, [shape[0], shape[1] * shape[2] * shape[3]])\n",
    "    hidden = activate(tf.matmul(reshape, layer3_weights) + layer3_biases, training)\n",
    "    hidden = activate(tf.matmul(hidden, layer4_weights) + layer4_biases, training)\n",
    "    return tf.matmul(hidden, layer5_weights) + layer5_biases\n",
    "  \n",
    "  # Training computation.\n",
    "  logits = model(tf_train_dataset, training=False)\n",
    "  loss = (tf.reduce_mean(\n",
    "          tf.nn.softmax_cross_entropy_with_logits(labels=tf_train_labels, logits=logits)))\n",
    "  for w in weights:\n",
    "    loss = loss + tf.nn.l2_loss(w) * loss_coeff\n",
    "    \n",
    "  # Optimizer.\n",
    "  global_step = tf.Variable(0)\n",
    "  learning_rate = tf.train.exponential_decay(0.03, global_step, 1000, 0.95)\n",
    "  #learning_rate = tf.train.polynomial_decay(0.05, global_step, num_steps)\n",
    "  optimizer = tf.train.GradientDescentOptimizer(learning_rate).minimize(loss, global_step=global_step)\n",
    "  \n",
    "  # Predictions for the training, validation, and test data.\n",
    "  train_prediction = tf.nn.softmax(logits)\n",
    "  valid_prediction = tf.nn.softmax(model(tf_valid_dataset))\n",
    "  test_prediction = tf.nn.softmax(model(tf_test_dataset))"
   ]
  },
  {
   "cell_type": "code",
   "execution_count": 238,
   "metadata": {
    "cellView": "both",
    "colab": {
     "autoexec": {
      "startup": false,
      "wait_interval": 0
     }
    },
    "colab_type": "code",
    "id": "IZYv70SvvOan"
   },
   "outputs": [
    {
     "name": "stdout",
     "output_type": "stream",
     "text": [
      "1.4142135623730951\n",
      "1.4142135623730951\n",
      "1.4142135623730951\n",
      "1.4142135623730951\n",
      "0.23570226039551584\n",
      "0.1414213562373095\n",
      "0.3535533905932738\n",
      "0.3535533905932738\n",
      "0.3535533905932738\n",
      "0.3535533905932738\n",
      "0.16666666666666666\n",
      "0.1\n",
      "0.25\n",
      "0.25\n",
      "0.25\n",
      "0.25\n",
      "0.11785113019775792\n",
      "0.07071067811865475\n",
      "0.025253813613805267\n",
      "0.14433756729740643\n",
      "0.25\n"
     ]
    }
   ],
   "source": [
    "batch_size = 16\n",
    "patch_size = 5\n",
    "depths = [4, 8, 16]\n",
    "num_hidden = [96, 32]\n",
    "loss_coeff = 0.03\n",
    "\n",
    "graph = tf.Graph()\n",
    "\n",
    "with graph.as_default():\n",
    "\n",
    "  # Input data.\n",
    "  tf_train_dataset = tf.placeholder(\n",
    "    tf.float32, shape=(batch_size, image_size, image_size, num_channels))\n",
    "  tf_train_labels = tf.placeholder(tf.float32, shape=(batch_size, num_labels))\n",
    "  tf_valid_dataset = tf.constant(valid_dataset)\n",
    "  tf_test_dataset = tf.constant(test_dataset)\n",
    "\n",
    "  def activate(activations):\n",
    "    return tf.nn.relu(activations)\n",
    "\n",
    "  def xavier(shape):\n",
    "    stddev = math.sqrt(2 / np.prod(shape[:len(shape) - 1]))\n",
    "    print(stddev)\n",
    "    return stddev\n",
    "\n",
    "  def init_weights(shape):\n",
    "    return tf.Variable(tf.truncated_normal(shape, stddev=xavier(shape)))\n",
    "\n",
    "  def conv_var(patch_size, in_depth, out_depth):\n",
    "    return init_weights([patch_size, patch_size, in_depth, out_depth])\n",
    "\n",
    "  def make_inception(in_depth, out_depth):\n",
    "    one_weights = [ conv_var(1, in_depth, out_depth) for _ in range(4) ]\n",
    "    one_biases = [ tf.Variable(tf.zeros([out_depth])) for _ in range(4) ]\n",
    "    three_weights = conv_var(3, out_depth, out_depth)\n",
    "    three_biases = tf.Variable(tf.zeros([out_depth]))\n",
    "    five_weights = conv_var(5, out_depth, out_depth)\n",
    "    five_biases = tf.Variable(tf.zeros([out_depth]))\n",
    "    \n",
    "    def app(data):\n",
    "      res_1 = activate(tf.nn.conv2d(data, one_weights[0], [1, 1, 1, 1], padding='SAME') + one_biases[0])\n",
    "      res_2 = activate(tf.nn.conv2d(data, one_weights[1], [1, 1, 1, 1], padding='SAME') + one_biases[1])\n",
    "      res_2 = activate(tf.nn.conv2d(res_2, three_weights, [1, 1, 1, 1], padding='SAME') + three_biases)\n",
    "      res_3 = activate(tf.nn.conv2d(data, one_weights[2], [1, 1, 1, 1], padding='SAME') + one_biases[2])\n",
    "      res_3 = activate(tf.nn.conv2d(res_3, five_weights, [1, 1, 1, 1], padding='SAME') + five_biases)\n",
    "      res_4 = tf.nn.avg_pool(data, [1, 3, 3, 1], [1, 1, 1, 1], padding='SAME')\n",
    "      res_4 = activate(tf.nn.conv2d(res_4, one_weights[3], [1, 1, 1, 1,], padding='SAME') + one_biases[3])\n",
    "    \n",
    "      return tf.concat([res_1, res_2, res_3, res_4], 3)\n",
    "    \n",
    "    return app, one_weights + [three_weights, five_weights]\n",
    "  \n",
    "  # Variables.\n",
    "  weights = []\n",
    "  incep_1, ws = make_inception(num_channels, depths[0])\n",
    "  weights = weights + ws\n",
    "  incep_2, ws = make_inception(4 * depths[0], depths[1])\n",
    "  weights = weights + ws\n",
    "  incep_3, ws = make_inception(4 * depths[1], depths[2])\n",
    "  weights = weights + ws\n",
    "  layer3_weights = init_weights([image_size // 4 * image_size // 4 * depths[2] * 4, num_hidden[0]])\n",
    "  layer3_biases = tf.Variable(tf.constant(1.0, shape=[num_hidden[0]]))  \n",
    "  layer4_weights = init_weights([num_hidden[0], num_hidden[1]])\n",
    "  layer4_biases = tf.Variable(tf.constant(1.0, shape=[num_hidden[1]]))\n",
    "  layer5_weights = init_weights([num_hidden[1], num_labels])\n",
    "  layer5_biases = tf.Variable(tf.constant(1.0, shape=[num_labels]))\n",
    "  weights = weights + [layer3_weights, layer4_weights, layer5_weights]\n",
    "  \n",
    "  # Model.\n",
    "  def model(data):\n",
    "    res = incep_1(data)\n",
    "    res = incep_2(res)\n",
    "    pool = tf.nn.max_pool(res, [1, 2, 2, 1], [1, 2, 2, 1], padding='SAME')\n",
    "    res = incep_3(pool)\n",
    "    pool = tf.nn.max_pool(res, [1, 2, 2, 1], [1, 2, 2, 1], padding='SAME')\n",
    "    shape = pool.get_shape().as_list()\n",
    "    reshape = tf.reshape(pool, [shape[0], shape[1] * shape[2] * shape[3]])\n",
    "    hidden = tf.nn.relu(tf.matmul(reshape, layer3_weights) + layer3_biases)\n",
    "    hidden = tf.nn.relu(tf.matmul(hidden, layer4_weights) + layer4_biases)\n",
    "    return tf.matmul(hidden, layer5_weights) + layer5_biases\n",
    "  \n",
    "  # Training computation.\n",
    "  logits = model(tf_train_dataset)\n",
    "  loss = tf.reduce_mean(\n",
    "    tf.nn.softmax_cross_entropy_with_logits(labels=tf_train_labels, logits=logits))\n",
    "  for w in weights:\n",
    "    loss = loss + loss_coeff * tf.nn.l2_loss(w)\n",
    "    \n",
    "  # Optimizer.\n",
    "  global_step = tf.Variable(0)\n",
    "  learning_rate = tf.train.exponential_decay(0.1, global_step, 500, 0.95)\n",
    "  #learning_rate = tf.train.polynomial_decay(0.05, global_step, num_steps)\n",
    "  optimizer = tf.train.GradientDescentOptimizer(learning_rate).minimize(loss, global_step=global_step)\n",
    "  \n",
    "  # Predictions for the training, validation, and test data.\n",
    "  train_prediction = tf.nn.softmax(logits)\n",
    "  valid_prediction = tf.nn.softmax(model(tf_valid_dataset))\n",
    "  test_prediction = tf.nn.softmax(model(tf_test_dataset))"
   ]
  },
  {
   "cell_type": "code",
   "execution_count": 16,
   "metadata": {},
   "outputs": [
    {
     "name": "stdout",
     "output_type": "stream",
     "text": [
      "0.282842712474619\n",
      "0.07071067811865475\n",
      "0.05\n",
      "0.025253813613805267\n",
      "0.044721359549995794\n",
      "0.08164965809277261\n",
      "0.18257418583505536\n"
     ]
    }
   ],
   "source": [
    "batch_size = 16\n",
    "patches = [5, 5, 5]\n",
    "depths = [16, 32, 64]\n",
    "hiddens = [1000, 300, 60]\n",
    "\n",
    "graph = tf.Graph()\n",
    "\n",
    "with graph.as_default(), tf.device('/cpu:0'):\n",
    "\n",
    "  # Input data.\n",
    "  tf_train_dataset = tf.placeholder(\n",
    "    tf.float32, shape=(batch_size, image_size, image_size, num_channels))\n",
    "  tf_train_labels = tf.placeholder(tf.float32, shape=(batch_size, num_labels))\n",
    "  tf_valid_dataset = tf.constant(valid_dataset)\n",
    "  tf_test_dataset = tf.constant(test_dataset)\n",
    "  \n",
    "  def activate(activations):\n",
    "    return tf.nn.relu(activations)\n",
    "\n",
    "  def xavier(shape):\n",
    "    stddev = math.sqrt(2 / np.prod(shape[:len(shape) - 1]))\n",
    "    print(stddev)\n",
    "    return stddev\n",
    "\n",
    "  def init_weights(shape):\n",
    "    return tf.Variable(tf.truncated_normal(shape, stddev=xavier(shape)))\n",
    "\n",
    "  def conv_var(patch_size, in_depth, out_depth):\n",
    "    return init_weights([patch_size, patch_size, in_depth, out_depth])\n",
    "    \n",
    "  # Variables.\n",
    "  padded = [num_channels] + depths\n",
    "  conv_ws = [ conv_var(patches[i], padded[i], padded[i + 1]) for i in range(len(depths)) ]\n",
    "  conv_bs = [ tf.Variable(tf.zeros([depth])) for depth in depths ]\n",
    "  padded = [image_size // 4 * image_size // 4 * depths[-1]] + hiddens + [num_labels]\n",
    "  hidden_ws = [ init_weights([padded[i], padded[i+1]]) for i in range(len(hiddens) + 1) ]\n",
    "  hidden_bs = [ tf.Variable(tf.zeros([size])) for size in hiddens + [num_labels]]\n",
    "  \n",
    "  # Model.\n",
    "  def model(data):\n",
    "    pool = data\n",
    "    for i in range(len(depths)):\n",
    "      conv = activate(tf.nn.conv2d(pool, conv_ws[i], [1, 1, 1, 1], padding='SAME') + conv_bs[i])\n",
    "      if len(depths) - i < 3:\n",
    "        pool = tf.nn.max_pool(conv, [1, 2, 2, 1], [1, 2, 2, 1], padding='SAME')\n",
    "      else:\n",
    "        pool = conv\n",
    "    shape = pool.get_shape().as_list()\n",
    "    reshape = tf.reshape(pool, [shape[0], shape[1] * shape[2] * shape[3]])\n",
    "    res = tf.matmul(reshape, hidden_ws[0]) + hidden_bs[0]\n",
    "    for i in range(1, len(hidden_ws)):\n",
    "      act = activate(res)\n",
    "      res = tf.matmul(act, hidden_ws[i]) + hidden_bs[i]\n",
    "    return res\n",
    "  \n",
    "  # Training computation.\n",
    "  logits = model(tf_train_dataset)\n",
    "  loss = tf.reduce_mean(\n",
    "    tf.nn.softmax_cross_entropy_with_logits(labels=tf_train_labels, logits=logits))\n",
    "    \n",
    "    # Optimizer.\n",
    "  global_step = tf.Variable(0)\n",
    "  learning_rate = tf.train.exponential_decay(0.1, global_step, 2000, 0.95)\n",
    "  #learning_rate = tf.train.polynomial_decay(0.05, global_step, num_steps)\n",
    "  optimizer = tf.train.GradientDescentOptimizer(learning_rate).minimize(loss, global_step=global_step)\n",
    "  \n",
    "  # Predictions for the training, validation, and test data.\n",
    "  train_prediction = tf.nn.softmax(logits)\n",
    "  valid_prediction = tf.nn.softmax(model(tf_valid_dataset))\n",
    "  test_prediction = tf.nn.softmax(model(tf_test_dataset))"
   ]
  },
  {
   "cell_type": "code",
   "execution_count": null,
   "metadata": {
    "cellView": "both",
    "colab": {
     "autoexec": {
      "startup": false,
      "wait_interval": 0
     },
     "output_extras": [
      {
       "item_id": 37
      }
     ]
    },
    "colab_type": "code",
    "executionInfo": {
     "elapsed": 63292,
     "status": "ok",
     "timestamp": 1446658966251,
     "user": {
      "color": "",
      "displayName": "",
      "isAnonymous": false,
      "isMe": true,
      "permissionId": "",
      "photoUrl": "",
      "sessionId": "0",
      "userId": ""
     },
     "user_tz": 480
    },
    "id": "noKFb2UovVFR",
    "outputId": "28941338-2ef9-4088-8bd1-44295661e628",
    "scrolled": true
   },
   "outputs": [
    {
     "name": "stdout",
     "output_type": "stream",
     "text": [
      "Minibatch loss at step 4500: 0.442883\n",
      "Minibatch accuracy: 87.5%\n",
      "Validation accuracy: 89.3%\n",
      "[1 9 3 8 9 3 9 7 0 0 3 4 9 2 4 2 4 2 7 1 1 4 8 0 3 7 8 2 9 8 9 9 4 6 3]\n"
     ]
    },
    {
     "data": {
      "image/png": "[encoded data removed]",
      "text/plain": [
       "<matplotlib.figure.Figure at 0x1fc9f965e80>"
      ]
     },
     "metadata": {},
     "output_type": "display_data"
    },
    {
     "data": {
      "image/png": "[encoded data removed]",
      "text/plain": [
       "<matplotlib.figure.Figure at 0x1fca201e390>"
      ]
     },
     "metadata": {},
     "output_type": "display_data"
    },
    {
     "data": {
      "image/png": "[encoded data removed]",
      "text/plain": [
       "<matplotlib.figure.Figure at 0x1fc9ffb7dd8>"
      ]
     },
     "metadata": {},
     "output_type": "display_data"
    }
   ],
   "source": [
    "%%time\n",
    "\n",
    "num_steps = 5001 #125001\n",
    "disp_inc = 500\n",
    "\n",
    "with tf.Session(graph=graph) as session:\n",
    "  tf.global_variables_initializer().run()\n",
    "  print('Initialized')\n",
    "  track_progress = []\n",
    "  track_loss = []\n",
    "  for step in range(num_steps):\n",
    "    try:\n",
    "      offset = (step * batch_size) % (train_labels.shape[0] - batch_size)\n",
    "      batch_data = train_dataset[offset:(offset + batch_size), :, :, :]\n",
    "      batch_labels = train_labels[offset:(offset + batch_size), :]\n",
    "      feed_dict = {tf_train_dataset : batch_data, tf_train_labels : batch_labels}\n",
    "      _, l, predictions = session.run(\n",
    "        [optimizer, loss, train_prediction], feed_dict=feed_dict)\n",
    "      if (step % disp_inc == 0):\n",
    "        val_pred = valid_prediction.eval()\n",
    "        valid_acc = accuracy(val_pred, valid_labels)\n",
    "        track_progress.append(valid_acc)\n",
    "        track_loss.append(l)\n",
    "          \n",
    "        clear_output(wait=True)\n",
    "      \n",
    "        print('Minibatch loss at step %d: %f' % (step, l))\n",
    "        print('Minibatch accuracy: %.1f%%' % accuracy(predictions, batch_labels))\n",
    "        print('Validation accuracy: %.1f%%' % valid_acc)\n",
    "        print(np.argmax(val_pred[0:35], 1))\n",
    "      \n",
    "        plt.plot([disp_inc * i for i in range(len(track_progress))], track_progress)\n",
    "        plt.show()\n",
    "        drop_some = track_progress[(len(track_progress) + 5) // 10:]\n",
    "        plt.plot([disp_inc * i for i in range(len(track_progress) - len(drop_some), len(track_progress))], drop_some)\n",
    "        plt.show()\n",
    "        plt.plot([disp_inc * i for i in range(len(track_loss))], track_loss)\n",
    "        plt.show()\n",
    "        \n",
    "    except KeyboardInterrupt:\n",
    "      print('Stopped early because KeyboardInterrupt')\n",
    "      break\n",
    "\n",
    "  print('Test accuracy: %.1f%%' % accuracy(test_prediction.eval(), test_labels))\n",
    "  last_bit = track_progress[-30:]\n",
    "  plt.plot([disp_inc * i for i in range(len(track_progress) - len(last_bit), len(track_progress))], last_bit)\n",
    "  plt.show()\n",
    "  last_bit = track_progress[(len(track_progress) + 5) // 10:]\n",
    "  plt.plot([disp_inc * i for i in range(len(track_progress) - len(last_bit), len(track_progress))], last_bit)\n",
    "  plt.show()"
   ]
  }
 ],
 "metadata": {
  "colab": {
   "default_view": {},
   "name": "4_convolutions.ipynb",
   "provenance": [],
   "version": "0.3.2",
   "views": {}
  },
  "kernelspec": {
   "display_name": "Python 3",
   "language": "python",
   "name": "python3"
  },
  "language_info": {
   "codemirror_mode": {
    "name": "ipython",
    "version": 3
   },
   "file_extension": ".py",
   "mimetype": "text/x-python",
   "name": "python",
   "nbconvert_exporter": "python",
   "pygments_lexer": "ipython3",
   "version": "3.6.3"
  }
 },
 "nbformat": 4,
 "nbformat_minor": 1
}
